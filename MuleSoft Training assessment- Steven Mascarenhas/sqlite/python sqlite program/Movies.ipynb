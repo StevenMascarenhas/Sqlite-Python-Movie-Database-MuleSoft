{
 "cells": [
  {
   "cell_type": "code",
   "execution_count": 1,
   "id": "b5d880a5",
   "metadata": {},
   "outputs": [],
   "source": [
    "#importing Libraries\n",
    "import pandas as pd\n",
    "import sqlite3 as db\n"
   ]
  },
  {
   "cell_type": "code",
   "execution_count": 2,
   "id": "205179ff",
   "metadata": {},
   "outputs": [],
   "source": [
    "#Creating a new SQLite Movies database \n",
    "#Connecting to the SQLite database and establishing connection to movies database\n",
    "#if unable to open database then change the location to current working directory to where the database is created\n",
    "conn=db.connect(r'C:\\Users\\STEVEN\\Desktop\\MuleSoft Training assessment- Steven Mascarenhas\\sqlite\\db\\Movies.db')"
   ]
  },
  {
   "cell_type": "code",
   "execution_count": 3,
   "id": "b3829be4",
   "metadata": {},
   "outputs": [],
   "source": [
    "#Creating a Cursor object by calling the cursor() method of the Connection object.\n",
    "cn=conn.cursor()"
   ]
  },
  {
   "cell_type": "code",
   "execution_count": 4,
   "id": "e18c2de3",
   "metadata": {},
   "outputs": [
    {
     "data": {
      "text/plain": [
       "<sqlite3.Cursor at 0x2dda01cf880>"
      ]
     },
     "execution_count": 4,
     "metadata": {},
     "output_type": "execute_result"
    }
   ],
   "source": [
    "#incase u want to drop a table if already exists use this(just for checking if table already exists )\n",
    "cn.execute(\"DROP TABLE Movies\")"
   ]
  },
  {
   "cell_type": "code",
   "execution_count": 5,
   "id": "6099cf16",
   "metadata": {},
   "outputs": [
    {
     "data": {
      "text/plain": [
       "<sqlite3.Cursor at 0x2dda01cf880>"
      ]
     },
     "execution_count": 5,
     "metadata": {},
     "output_type": "execute_result"
    }
   ],
   "source": [
    "#Creating tables in SQLite database using Python\n",
    "# the execute() method of the Cursor object to execute the CREATE TABLE statement.\n",
    "cn.execute(\"CREATE TABLE Movies( MovieId INTEGER PRIMARY KEY,MovieName Varchar(100),Actor Varchar(100),Actress Varchar(100),Director Varchar(100) ,Year_Of_Release Date)\")"
   ]
  },
  {
   "cell_type": "code",
   "execution_count": 6,
   "id": "eacde9dd",
   "metadata": {},
   "outputs": [
    {
     "name": "stdout",
     "output_type": "stream",
     "text": [
      "[('Movies',)]\n"
     ]
    }
   ],
   "source": [
    "#listing the tables in SQLite database\n",
    "cn.execute(\"SELECT name FROM sqlite_master WHERE type='table';\")\n",
    "#fetchall() fetches all (remaining) rows of a query result, returning a list.\n",
    "print(cn.fetchall())"
   ]
  },
  {
   "cell_type": "code",
   "execution_count": 7,
   "id": "1256e91a",
   "metadata": {},
   "outputs": [
    {
     "data": {
      "text/plain": [
       "<sqlite3.Cursor at 0x2dda01cf880>"
      ]
     },
     "execution_count": 7,
     "metadata": {},
     "output_type": "execute_result"
    }
   ],
   "source": [
    "#Inserting data into the SQLite database using Python\n",
    "#The execute() method of the Cursor object to execute the Insert into statement.\n",
    "#Inserting data into Movies table \n",
    "cn.execute(\"INSERT INTO Movies VALUES (1,'Spider-Man: No Way Home','Tom Holland','Zendaya','Jon Watts','16-12-2021')\")\n",
    "cn.execute(\"INSERT INTO Movies VALUES (2,'The Batman','Robert Pattinson','Zoë Kravitz','Matt Reeves','04-04-2022')\")\n",
    "cn.execute(\"INSERT INTO Movies VALUES (3,'Avatar 2','Sam Worthington','Zoe Saldaña','James Cameron','16-12-2022')\")\n",
    "cn.execute(\"INSERT INTO Movies VALUES (4,'Fantastic Beasts: The Secrets of Dumbledore','Johnny Depp','Katherine Waterston','David Yates','08-04-2022')\")\n",
    "cn.execute(\"INSERT INTO Movies VALUES (5,'Uncharted','Tom Holland','Sophia Taylor Ali', 'Ruben Fleischer','18-02-2022')\")"
   ]
  },
  {
   "cell_type": "code",
   "execution_count": 8,
   "id": "fc192b1e",
   "metadata": {},
   "outputs": [
    {
     "name": "stdout",
     "output_type": "stream",
     "text": [
      "[(1, 'Spider-Man: No Way Home', 'Tom Holland', 'Zendaya', 'Jon Watts', '16-12-2021'), (2, 'The Batman', 'Robert Pattinson', 'Zoë Kravitz', 'Matt Reeves', '04-04-2022'), (3, 'Avatar 2', 'Sam Worthington', 'Zoe Saldaña', 'James Cameron', '16-12-2022'), (4, 'Fantastic Beasts: The Secrets of Dumbledore', 'Johnny Depp', 'Katherine Waterston', 'David Yates', '08-04-2022'), (5, 'Uncharted', 'Tom Holland', 'Sophia Taylor Ali', 'Ruben Fleischer', '18-02-2022')]\n"
     ]
    }
   ],
   "source": [
    "#Querying data from Movies table \n",
    "cn.execute(\"SELECT * FROM Movies;\")\n",
    "#fetchall() fetches all (remaining) rows of a query result, returning a list.\n",
    "print(cn.fetchall())"
   ]
  },
  {
   "cell_type": "code",
   "execution_count": 9,
   "id": "4488c835",
   "metadata": {},
   "outputs": [
    {
     "name": "stdout",
     "output_type": "stream",
     "text": [
      "[('Spider-Man: No Way Home',), ('Uncharted',)]\n"
     ]
    }
   ],
   "source": [
    "#Querying data from Movies table with parameters\n",
    "#Using a query with parameter like actor name to select movies based on the actor's name.\n",
    "cn.execute(\" select MovieName from Movies where Actor ='Tom Holland';\")\n",
    "#fetchall() fetches all (remaining) rows of a query result, returning a list.\n",
    "print(cn.fetchall())"
   ]
  },
  {
   "cell_type": "code",
   "execution_count": 10,
   "id": "ee0ea480",
   "metadata": {},
   "outputs": [],
   "source": [
    "#commiting changes to the sqlite movies database\n",
    "conn.commit()"
   ]
  },
  {
   "cell_type": "code",
   "execution_count": 11,
   "id": "f686e1a0",
   "metadata": {},
   "outputs": [],
   "source": [
    "#closing the cursor object\n",
    "cn.close()\n",
    "#closing the movies database connection\n",
    "conn.close()"
   ]
  },
  {
   "cell_type": "code",
   "execution_count": 12,
   "id": "5390d35a",
   "metadata": {},
   "outputs": [],
   "source": [
    "con = db.connect(r'C:\\Users\\STEVEN\\Desktop\\MuleSoft Training assessment- Steven Mascarenhas\\sqlite\\db\\movies.db')\n",
    "#Pandas read sequel query method to return data as pandas databframe\n",
    "#returns the data as in the Movies database  as pandas dataframe \n",
    "df_Movies = pd.read_sql_query('select * from Movies', con)"
   ]
  },
  {
   "cell_type": "code",
   "execution_count": 13,
   "id": "ad885296",
   "metadata": {},
   "outputs": [
    {
     "data": {
      "text/html": [
       "<div>\n",
       "<style scoped>\n",
       "    .dataframe tbody tr th:only-of-type {\n",
       "        vertical-align: middle;\n",
       "    }\n",
       "\n",
       "    .dataframe tbody tr th {\n",
       "        vertical-align: top;\n",
       "    }\n",
       "\n",
       "    .dataframe thead th {\n",
       "        text-align: right;\n",
       "    }\n",
       "</style>\n",
       "<table border=\"1\" class=\"dataframe\">\n",
       "  <thead>\n",
       "    <tr style=\"text-align: right;\">\n",
       "      <th></th>\n",
       "      <th>MovieId</th>\n",
       "      <th>MovieName</th>\n",
       "      <th>Actor</th>\n",
       "      <th>Actress</th>\n",
       "      <th>Director</th>\n",
       "      <th>Year_Of_Release</th>\n",
       "    </tr>\n",
       "  </thead>\n",
       "  <tbody>\n",
       "    <tr>\n",
       "      <th>0</th>\n",
       "      <td>1</td>\n",
       "      <td>Spider-Man: No Way Home</td>\n",
       "      <td>Tom Holland</td>\n",
       "      <td>Zendaya</td>\n",
       "      <td>Jon Watts</td>\n",
       "      <td>16-12-2021</td>\n",
       "    </tr>\n",
       "    <tr>\n",
       "      <th>1</th>\n",
       "      <td>2</td>\n",
       "      <td>The Batman</td>\n",
       "      <td>Robert Pattinson</td>\n",
       "      <td>Zoë Kravitz</td>\n",
       "      <td>Matt Reeves</td>\n",
       "      <td>04-04-2022</td>\n",
       "    </tr>\n",
       "    <tr>\n",
       "      <th>2</th>\n",
       "      <td>3</td>\n",
       "      <td>Avatar 2</td>\n",
       "      <td>Sam Worthington</td>\n",
       "      <td>Zoe Saldaña</td>\n",
       "      <td>James Cameron</td>\n",
       "      <td>16-12-2022</td>\n",
       "    </tr>\n",
       "    <tr>\n",
       "      <th>3</th>\n",
       "      <td>4</td>\n",
       "      <td>Fantastic Beasts: The Secrets of Dumbledore</td>\n",
       "      <td>Johnny Depp</td>\n",
       "      <td>Katherine Waterston</td>\n",
       "      <td>David Yates</td>\n",
       "      <td>08-04-2022</td>\n",
       "    </tr>\n",
       "    <tr>\n",
       "      <th>4</th>\n",
       "      <td>5</td>\n",
       "      <td>Uncharted</td>\n",
       "      <td>Tom Holland</td>\n",
       "      <td>Sophia Taylor Ali</td>\n",
       "      <td>Ruben Fleischer</td>\n",
       "      <td>18-02-2022</td>\n",
       "    </tr>\n",
       "  </tbody>\n",
       "</table>\n",
       "</div>"
      ],
      "text/plain": [
       "   MovieId                                    MovieName             Actor  \\\n",
       "0        1                      Spider-Man: No Way Home       Tom Holland   \n",
       "1        2                                   The Batman  Robert Pattinson   \n",
       "2        3                                     Avatar 2   Sam Worthington   \n",
       "3        4  Fantastic Beasts: The Secrets of Dumbledore       Johnny Depp   \n",
       "4        5                                    Uncharted       Tom Holland   \n",
       "\n",
       "               Actress         Director Year_Of_Release  \n",
       "0              Zendaya        Jon Watts      16-12-2021  \n",
       "1          Zoë Kravitz      Matt Reeves      04-04-2022  \n",
       "2          Zoe Saldaña    James Cameron      16-12-2022  \n",
       "3  Katherine Waterston      David Yates      08-04-2022  \n",
       "4    Sophia Taylor Ali  Ruben Fleischer      18-02-2022  "
      ]
     },
     "execution_count": 13,
     "metadata": {},
     "output_type": "execute_result"
    }
   ],
   "source": [
    "df_Movies"
   ]
  },
  {
   "cell_type": "code",
   "execution_count": 14,
   "id": "a5bc78b5",
   "metadata": {},
   "outputs": [],
   "source": [
    "#returns the data as in the Movies database  as pandas dataframe with a parameter like actor name to select movies based on the actor's name.\n",
    "\n",
    "df_Movies1 = pd.read_sql_query(\"select MovieName,Actor from Movies where actor ='Tom Holland' \", con)\n"
   ]
  },
  {
   "cell_type": "code",
   "execution_count": 15,
   "id": "e546212a",
   "metadata": {},
   "outputs": [
    {
     "data": {
      "text/html": [
       "<div>\n",
       "<style scoped>\n",
       "    .dataframe tbody tr th:only-of-type {\n",
       "        vertical-align: middle;\n",
       "    }\n",
       "\n",
       "    .dataframe tbody tr th {\n",
       "        vertical-align: top;\n",
       "    }\n",
       "\n",
       "    .dataframe thead th {\n",
       "        text-align: right;\n",
       "    }\n",
       "</style>\n",
       "<table border=\"1\" class=\"dataframe\">\n",
       "  <thead>\n",
       "    <tr style=\"text-align: right;\">\n",
       "      <th></th>\n",
       "      <th>MovieName</th>\n",
       "      <th>Actor</th>\n",
       "    </tr>\n",
       "  </thead>\n",
       "  <tbody>\n",
       "    <tr>\n",
       "      <th>0</th>\n",
       "      <td>Spider-Man: No Way Home</td>\n",
       "      <td>Tom Holland</td>\n",
       "    </tr>\n",
       "    <tr>\n",
       "      <th>1</th>\n",
       "      <td>Uncharted</td>\n",
       "      <td>Tom Holland</td>\n",
       "    </tr>\n",
       "  </tbody>\n",
       "</table>\n",
       "</div>"
      ],
      "text/plain": [
       "                 MovieName        Actor\n",
       "0  Spider-Man: No Way Home  Tom Holland\n",
       "1                Uncharted  Tom Holland"
      ]
     },
     "execution_count": 15,
     "metadata": {},
     "output_type": "execute_result"
    }
   ],
   "source": [
    "df_Movies1"
   ]
  },
  {
   "cell_type": "code",
   "execution_count": 16,
   "id": "091ec2ff",
   "metadata": {},
   "outputs": [],
   "source": [
    "#closing the connection\n",
    "con.close()"
   ]
  },
  {
   "cell_type": "code",
   "execution_count": null,
   "id": "718e7326",
   "metadata": {},
   "outputs": [],
   "source": []
  }
 ],
 "metadata": {
  "kernelspec": {
   "display_name": "Python 3",
   "language": "python",
   "name": "python3"
  },
  "language_info": {
   "codemirror_mode": {
    "name": "ipython",
    "version": 3
   },
   "file_extension": ".py",
   "mimetype": "text/x-python",
   "name": "python",
   "nbconvert_exporter": "python",
   "pygments_lexer": "ipython3",
   "version": "3.8.8"
  }
 },
 "nbformat": 4,
 "nbformat_minor": 5
}
